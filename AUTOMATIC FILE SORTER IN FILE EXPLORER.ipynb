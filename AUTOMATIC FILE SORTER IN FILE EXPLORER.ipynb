{
 "cells": [
  {
   "cell_type": "code",
   "execution_count": 14,
   "id": "546449bb",
   "metadata": {},
   "outputs": [],
   "source": [
    "import os,shutil"
   ]
  },
  {
   "cell_type": "code",
   "execution_count": 15,
   "id": "a240faa8",
   "metadata": {},
   "outputs": [],
   "source": [
    "path=r\"C:/Users/Smruti/Downloads/insomnia/\""
   ]
  },
  {
   "cell_type": "code",
   "execution_count": 16,
   "id": "7171bd9d",
   "metadata": {},
   "outputs": [],
   "source": [
    "file_name=os.listdir(path)"
   ]
  },
  {
   "cell_type": "code",
   "execution_count": 17,
   "id": "34336464",
   "metadata": {},
   "outputs": [],
   "source": [
    "file=['pdf files','text file']\n",
    "for loop in range(0,1):\n",
    "    os.makedirs(path+file[loop])\n",
    "    "
   ]
  },
  {
   "cell_type": "code",
   "execution_count": 18,
   "id": "afcb8ce5",
   "metadata": {},
   "outputs": [],
   "source": [
    "for file in file_name:\n",
    "    if \".pdf\" in file and not  os.path.exists(path+\"pdf files/\"+file):\n",
    "        shutil.move(path+file,path+\"pdf files/\"+file)\n",
    "    elif \".txt\" in file and not  os.path.exists(path+\"text files/\"+file):\n",
    "        shutil.move(path+file,path+\"text files/\"+file)"
   ]
  },
  {
   "cell_type": "code",
   "execution_count": null,
   "id": "615f7f1c",
   "metadata": {},
   "outputs": [],
   "source": []
  }
 ],
 "metadata": {
  "kernelspec": {
   "display_name": "Python 3 (ipykernel)",
   "language": "python",
   "name": "python3"
  },
  "language_info": {
   "codemirror_mode": {
    "name": "ipython",
    "version": 3
   },
   "file_extension": ".py",
   "mimetype": "text/x-python",
   "name": "python",
   "nbconvert_exporter": "python",
   "pygments_lexer": "ipython3",
   "version": "3.11.5"
  }
 },
 "nbformat": 4,
 "nbformat_minor": 5
}
