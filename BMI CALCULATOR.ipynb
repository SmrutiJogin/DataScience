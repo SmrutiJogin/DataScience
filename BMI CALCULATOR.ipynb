{
 "cells": [
  {
   "cell_type": "code",
   "execution_count": 5,
   "id": "8cd1cbc6",
   "metadata": {},
   "outputs": [
    {
     "name": "stdout",
     "output_type": "stream",
     "text": [
      "Enter your name:  Smruti\n",
      "Enter your weight:  58\n",
      "Enter your height:  152\n",
      "1.7648026315789473\n",
      "Smruti, you are underweight\n"
     ]
    }
   ],
   "source": [
    "name=input(\"Enter your name:  \")\n",
    "weight=int(input(\"Enter your weight:  \"))\n",
    "height=int(input(\"Enter your height:  \"))\n",
    "BMI=(weight*703)/(height*height)\n",
    "print(BMI)\n",
    "if(BMI>0):\n",
    "    if(BMI<18.5):\n",
    "        print(name +\", you are underweight\");\n",
    "    elif(BMI<=24.9):\n",
    "        print(name +\", you are normal weight\");\n",
    "    elif(BMI<=29.9):\n",
    "        print(name +\", you are overweight\");\n",
    "    elif(BMI<=34.9):\n",
    "        print(name +\", you are obese\");\n",
    "    elif(BMI<=39.9):\n",
    "        print(name +\", you are severe obese\");\n",
    "    else:\n",
    "        print(\"Enter valid input\");"
   ]
  },
  {
   "cell_type": "code",
   "execution_count": null,
   "id": "ebf3c6a6",
   "metadata": {},
   "outputs": [],
   "source": []
  }
 ],
 "metadata": {
  "kernelspec": {
   "display_name": "Python 3 (ipykernel)",
   "language": "python",
   "name": "python3"
  },
  "language_info": {
   "codemirror_mode": {
    "name": "ipython",
    "version": 3
   },
   "file_extension": ".py",
   "mimetype": "text/x-python",
   "name": "python",
   "nbconvert_exporter": "python",
   "pygments_lexer": "ipython3",
   "version": "3.11.5"
  }
 },
 "nbformat": 4,
 "nbformat_minor": 5
}
