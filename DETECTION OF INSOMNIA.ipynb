{
 "cells": [
  {
   "cell_type": "code",
   "execution_count": 1,
   "id": "9e78cb99-fc5f-4ade-8b9c-49475d1a1156",
   "metadata": {},
   "outputs": [],
   "source": [
    "import pandas as pd\n",
    "import numpy as np\n",
    "from sklearn.preprocessing import StandardScaler\n",
    "from sklearn.model_selection import train_test_split\n",
    "from sklearn.datasets import make_classification\n",
    "from sklearn import metrics\n",
    "from sklearn.linear_model import Ridge\n",
    "from sklearn.ensemble import VotingClassifier,BaggingClassifier,AdaBoostClassifier,RandomForestClassifier\n",
    "from sklearn.svm import SVC\n",
    "from sklearn.model_selection import train_test_split\n",
    "from sklearn.metrics import accuracy_score,mean_absolute_error,confusion_matrix, roc_curve,auc,f1_score,mean_squared_error,log_loss\n",
    "import pickle\n",
    "import joblib\n",
    "df=pd.read_csv(r\"C:\\Users\\Smruti\\Downloads\\insomnia\\EEG_DATA.csv\")"
   ]
  },
  {
   "cell_type": "code",
   "execution_count": 2,
   "id": "a5d37544-2b98-4afa-8b34-b75052c4e207",
   "metadata": {},
   "outputs": [
    {
     "data": {
      "text/html": [
       "<div>\n",
       "<style scoped>\n",
       "    .dataframe tbody tr th:only-of-type {\n",
       "        vertical-align: middle;\n",
       "    }\n",
       "\n",
       "    .dataframe tbody tr th {\n",
       "        vertical-align: top;\n",
       "    }\n",
       "\n",
       "    .dataframe thead th {\n",
       "        text-align: right;\n",
       "    }\n",
       "</style>\n",
       "<table border=\"1\" class=\"dataframe\">\n",
       "  <thead>\n",
       "    <tr style=\"text-align: right;\">\n",
       "      <th></th>\n",
       "      <th>Alpha2</th>\n",
       "      <th>Beta0</th>\n",
       "      <th>Beta1</th>\n",
       "      <th>Beta2</th>\n",
       "      <th>Beta3</th>\n",
       "      <th>Delta0</th>\n",
       "      <th>Delta1</th>\n",
       "      <th>Delta2</th>\n",
       "      <th>Delta3</th>\n",
       "      <th>Delta5</th>\n",
       "      <th>Low0</th>\n",
       "      <th>Low1</th>\n",
       "      <th>Low2</th>\n",
       "      <th>Low3</th>\n",
       "      <th>Low5</th>\n",
       "      <th>Insomnia</th>\n",
       "    </tr>\n",
       "  </thead>\n",
       "  <tbody>\n",
       "    <tr>\n",
       "      <th>0</th>\n",
       "      <td>5.19</td>\n",
       "      <td>2.82</td>\n",
       "      <td>1.90</td>\n",
       "      <td>1.08</td>\n",
       "      <td>0.61</td>\n",
       "      <td>7.97</td>\n",
       "      <td>6.03</td>\n",
       "      <td>8.44</td>\n",
       "      <td>13.50</td>\n",
       "      <td>6.33</td>\n",
       "      <td>4.97</td>\n",
       "      <td>4.45</td>\n",
       "      <td>5.43</td>\n",
       "      <td>7.63</td>\n",
       "      <td>3.73</td>\n",
       "      <td>1</td>\n",
       "    </tr>\n",
       "    <tr>\n",
       "      <th>1</th>\n",
       "      <td>-0.32</td>\n",
       "      <td>0.75</td>\n",
       "      <td>0.21</td>\n",
       "      <td>0.54</td>\n",
       "      <td>0.46</td>\n",
       "      <td>5.56</td>\n",
       "      <td>3.13</td>\n",
       "      <td>2.13</td>\n",
       "      <td>0.98</td>\n",
       "      <td>1.92</td>\n",
       "      <td>2.43</td>\n",
       "      <td>1.31</td>\n",
       "      <td>0.57</td>\n",
       "      <td>0.14</td>\n",
       "      <td>0.97</td>\n",
       "      <td>1</td>\n",
       "    </tr>\n",
       "    <tr>\n",
       "      <th>2</th>\n",
       "      <td>2.20</td>\n",
       "      <td>1.69</td>\n",
       "      <td>1.36</td>\n",
       "      <td>1.14</td>\n",
       "      <td>1.06</td>\n",
       "      <td>8.51</td>\n",
       "      <td>5.66</td>\n",
       "      <td>6.72</td>\n",
       "      <td>8.55</td>\n",
       "      <td>5.95</td>\n",
       "      <td>4.09</td>\n",
       "      <td>2.76</td>\n",
       "      <td>3.39</td>\n",
       "      <td>3.93</td>\n",
       "      <td>2.78</td>\n",
       "      <td>1</td>\n",
       "    </tr>\n",
       "    <tr>\n",
       "      <th>3</th>\n",
       "      <td>1.23</td>\n",
       "      <td>1.75</td>\n",
       "      <td>0.77</td>\n",
       "      <td>1.01</td>\n",
       "      <td>0.88</td>\n",
       "      <td>5.21</td>\n",
       "      <td>4.97</td>\n",
       "      <td>5.37</td>\n",
       "      <td>5.28</td>\n",
       "      <td>3.36</td>\n",
       "      <td>3.03</td>\n",
       "      <td>2.59</td>\n",
       "      <td>2.41</td>\n",
       "      <td>2.28</td>\n",
       "      <td>2.08</td>\n",
       "      <td>1</td>\n",
       "    </tr>\n",
       "    <tr>\n",
       "      <th>4</th>\n",
       "      <td>4.76</td>\n",
       "      <td>2.59</td>\n",
       "      <td>2.42</td>\n",
       "      <td>2.07</td>\n",
       "      <td>1.73</td>\n",
       "      <td>10.38</td>\n",
       "      <td>9.12</td>\n",
       "      <td>10.88</td>\n",
       "      <td>15.70</td>\n",
       "      <td>7.79</td>\n",
       "      <td>5.70</td>\n",
       "      <td>5.10</td>\n",
       "      <td>6.01</td>\n",
       "      <td>7.69</td>\n",
       "      <td>3.74</td>\n",
       "      <td>1</td>\n",
       "    </tr>\n",
       "  </tbody>\n",
       "</table>\n",
       "</div>"
      ],
      "text/plain": [
       "   Alpha2  Beta0  Beta1  Beta2  Beta3  Delta0  Delta1  Delta2  Delta3  Delta5  \\\n",
       "0    5.19   2.82   1.90   1.08   0.61    7.97    6.03    8.44   13.50    6.33   \n",
       "1   -0.32   0.75   0.21   0.54   0.46    5.56    3.13    2.13    0.98    1.92   \n",
       "2    2.20   1.69   1.36   1.14   1.06    8.51    5.66    6.72    8.55    5.95   \n",
       "3    1.23   1.75   0.77   1.01   0.88    5.21    4.97    5.37    5.28    3.36   \n",
       "4    4.76   2.59   2.42   2.07   1.73   10.38    9.12   10.88   15.70    7.79   \n",
       "\n",
       "   Low0  Low1  Low2  Low3  Low5  Insomnia  \n",
       "0  4.97  4.45  5.43  7.63  3.73         1  \n",
       "1  2.43  1.31  0.57  0.14  0.97         1  \n",
       "2  4.09  2.76  3.39  3.93  2.78         1  \n",
       "3  3.03  2.59  2.41  2.28  2.08         1  \n",
       "4  5.70  5.10  6.01  7.69  3.74         1  "
      ]
     },
     "execution_count": 2,
     "metadata": {},
     "output_type": "execute_result"
    }
   ],
   "source": [
    "df.head()"
   ]
  },
  {
   "cell_type": "code",
   "execution_count": 3,
   "id": "43b61fd0-f2f7-413c-a5dc-a6fbe01b5499",
   "metadata": {},
   "outputs": [
    {
     "data": {
      "text/plain": [
       "Alpha2      0\n",
       "Beta0       0\n",
       "Beta1       0\n",
       "Beta2       0\n",
       "Beta3       0\n",
       "Delta0      0\n",
       "Delta1      0\n",
       "Delta2      0\n",
       "Delta3      0\n",
       "Delta5      0\n",
       "Low0        0\n",
       "Low1        0\n",
       "Low2        0\n",
       "Low3        0\n",
       "Low5        0\n",
       "Insomnia    0\n",
       "dtype: int64"
      ]
     },
     "execution_count": 3,
     "metadata": {},
     "output_type": "execute_result"
    }
   ],
   "source": [
    "df.isnull().sum()"
   ]
  },
  {
   "cell_type": "code",
   "execution_count": 4,
   "id": "9b44f10f-ec5d-4b5e-a665-47a80821ea6c",
   "metadata": {},
   "outputs": [
    {
     "data": {
      "text/html": [
       "<div>\n",
       "<style scoped>\n",
       "    .dataframe tbody tr th:only-of-type {\n",
       "        vertical-align: middle;\n",
       "    }\n",
       "\n",
       "    .dataframe tbody tr th {\n",
       "        vertical-align: top;\n",
       "    }\n",
       "\n",
       "    .dataframe thead th {\n",
       "        text-align: right;\n",
       "    }\n",
       "</style>\n",
       "<table border=\"1\" class=\"dataframe\">\n",
       "  <thead>\n",
       "    <tr style=\"text-align: right;\">\n",
       "      <th></th>\n",
       "      <th>Alpha2</th>\n",
       "      <th>Beta0</th>\n",
       "      <th>Beta1</th>\n",
       "      <th>Beta2</th>\n",
       "      <th>Beta3</th>\n",
       "      <th>Delta0</th>\n",
       "      <th>Delta1</th>\n",
       "      <th>Delta2</th>\n",
       "      <th>Delta3</th>\n",
       "      <th>Delta5</th>\n",
       "      <th>Low0</th>\n",
       "      <th>Low1</th>\n",
       "      <th>Low2</th>\n",
       "      <th>Low3</th>\n",
       "      <th>Low5</th>\n",
       "      <th>Insomnia</th>\n",
       "    </tr>\n",
       "  </thead>\n",
       "  <tbody>\n",
       "    <tr>\n",
       "      <th>count</th>\n",
       "      <td>2000.000000</td>\n",
       "      <td>2000.000000</td>\n",
       "      <td>2000.000000</td>\n",
       "      <td>2000.000000</td>\n",
       "      <td>2000.000000</td>\n",
       "      <td>2000.000000</td>\n",
       "      <td>2000.000000</td>\n",
       "      <td>2000.000000</td>\n",
       "      <td>2000.000000</td>\n",
       "      <td>2000.000000</td>\n",
       "      <td>2000.000000</td>\n",
       "      <td>2000.000000</td>\n",
       "      <td>2000.000000</td>\n",
       "      <td>2000.00000</td>\n",
       "      <td>2000.000000</td>\n",
       "      <td>2000.000000</td>\n",
       "    </tr>\n",
       "    <tr>\n",
       "      <th>mean</th>\n",
       "      <td>1.826720</td>\n",
       "      <td>1.317550</td>\n",
       "      <td>0.994670</td>\n",
       "      <td>0.913510</td>\n",
       "      <td>0.787570</td>\n",
       "      <td>6.655300</td>\n",
       "      <td>4.906290</td>\n",
       "      <td>5.406470</td>\n",
       "      <td>6.581290</td>\n",
       "      <td>4.467330</td>\n",
       "      <td>3.219980</td>\n",
       "      <td>2.541210</td>\n",
       "      <td>2.729930</td>\n",
       "      <td>3.14623</td>\n",
       "      <td>2.206690</td>\n",
       "      <td>0.500000</td>\n",
       "    </tr>\n",
       "    <tr>\n",
       "      <th>std</th>\n",
       "      <td>1.509481</td>\n",
       "      <td>0.887735</td>\n",
       "      <td>0.675036</td>\n",
       "      <td>0.525952</td>\n",
       "      <td>0.485279</td>\n",
       "      <td>2.954552</td>\n",
       "      <td>1.761794</td>\n",
       "      <td>2.350892</td>\n",
       "      <td>3.878686</td>\n",
       "      <td>1.819662</td>\n",
       "      <td>1.602882</td>\n",
       "      <td>1.123772</td>\n",
       "      <td>1.504709</td>\n",
       "      <td>2.17403</td>\n",
       "      <td>0.920895</td>\n",
       "      <td>0.500125</td>\n",
       "    </tr>\n",
       "    <tr>\n",
       "      <th>min</th>\n",
       "      <td>-3.070000</td>\n",
       "      <td>-1.580000</td>\n",
       "      <td>-1.440000</td>\n",
       "      <td>-0.770000</td>\n",
       "      <td>-0.790000</td>\n",
       "      <td>-1.710000</td>\n",
       "      <td>-1.060000</td>\n",
       "      <td>-3.320000</td>\n",
       "      <td>-7.950000</td>\n",
       "      <td>-1.720000</td>\n",
       "      <td>-2.170000</td>\n",
       "      <td>-1.430000</td>\n",
       "      <td>-2.740000</td>\n",
       "      <td>-4.46000</td>\n",
       "      <td>-1.010000</td>\n",
       "      <td>0.000000</td>\n",
       "    </tr>\n",
       "    <tr>\n",
       "      <th>25%</th>\n",
       "      <td>0.820000</td>\n",
       "      <td>0.710000</td>\n",
       "      <td>0.560000</td>\n",
       "      <td>0.540000</td>\n",
       "      <td>0.460000</td>\n",
       "      <td>4.647500</td>\n",
       "      <td>3.717500</td>\n",
       "      <td>3.915000</td>\n",
       "      <td>4.000000</td>\n",
       "      <td>3.280000</td>\n",
       "      <td>2.127500</td>\n",
       "      <td>1.777500</td>\n",
       "      <td>1.710000</td>\n",
       "      <td>1.70750</td>\n",
       "      <td>1.590000</td>\n",
       "      <td>0.000000</td>\n",
       "    </tr>\n",
       "    <tr>\n",
       "      <th>50%</th>\n",
       "      <td>1.870000</td>\n",
       "      <td>1.315000</td>\n",
       "      <td>1.000000</td>\n",
       "      <td>0.920000</td>\n",
       "      <td>0.790000</td>\n",
       "      <td>6.555000</td>\n",
       "      <td>4.880000</td>\n",
       "      <td>5.365000</td>\n",
       "      <td>6.535000</td>\n",
       "      <td>4.480000</td>\n",
       "      <td>3.210000</td>\n",
       "      <td>2.505000</td>\n",
       "      <td>2.710000</td>\n",
       "      <td>3.16000</td>\n",
       "      <td>2.220000</td>\n",
       "      <td>0.500000</td>\n",
       "    </tr>\n",
       "    <tr>\n",
       "      <th>75%</th>\n",
       "      <td>2.922500</td>\n",
       "      <td>1.910000</td>\n",
       "      <td>1.450000</td>\n",
       "      <td>1.240000</td>\n",
       "      <td>1.100000</td>\n",
       "      <td>8.680000</td>\n",
       "      <td>6.060000</td>\n",
       "      <td>6.962500</td>\n",
       "      <td>9.250000</td>\n",
       "      <td>5.622500</td>\n",
       "      <td>4.290000</td>\n",
       "      <td>3.310000</td>\n",
       "      <td>3.752500</td>\n",
       "      <td>4.69000</td>\n",
       "      <td>2.820000</td>\n",
       "      <td>1.000000</td>\n",
       "    </tr>\n",
       "    <tr>\n",
       "      <th>max</th>\n",
       "      <td>6.470000</td>\n",
       "      <td>4.120000</td>\n",
       "      <td>3.170000</td>\n",
       "      <td>2.540000</td>\n",
       "      <td>2.430000</td>\n",
       "      <td>15.450000</td>\n",
       "      <td>10.050000</td>\n",
       "      <td>12.390000</td>\n",
       "      <td>19.270000</td>\n",
       "      <td>10.030000</td>\n",
       "      <td>8.130000</td>\n",
       "      <td>6.010000</td>\n",
       "      <td>7.420000</td>\n",
       "      <td>10.19000</td>\n",
       "      <td>4.970000</td>\n",
       "      <td>1.000000</td>\n",
       "    </tr>\n",
       "  </tbody>\n",
       "</table>\n",
       "</div>"
      ],
      "text/plain": [
       "            Alpha2        Beta0        Beta1        Beta2        Beta3  \\\n",
       "count  2000.000000  2000.000000  2000.000000  2000.000000  2000.000000   \n",
       "mean      1.826720     1.317550     0.994670     0.913510     0.787570   \n",
       "std       1.509481     0.887735     0.675036     0.525952     0.485279   \n",
       "min      -3.070000    -1.580000    -1.440000    -0.770000    -0.790000   \n",
       "25%       0.820000     0.710000     0.560000     0.540000     0.460000   \n",
       "50%       1.870000     1.315000     1.000000     0.920000     0.790000   \n",
       "75%       2.922500     1.910000     1.450000     1.240000     1.100000   \n",
       "max       6.470000     4.120000     3.170000     2.540000     2.430000   \n",
       "\n",
       "            Delta0       Delta1       Delta2       Delta3       Delta5  \\\n",
       "count  2000.000000  2000.000000  2000.000000  2000.000000  2000.000000   \n",
       "mean      6.655300     4.906290     5.406470     6.581290     4.467330   \n",
       "std       2.954552     1.761794     2.350892     3.878686     1.819662   \n",
       "min      -1.710000    -1.060000    -3.320000    -7.950000    -1.720000   \n",
       "25%       4.647500     3.717500     3.915000     4.000000     3.280000   \n",
       "50%       6.555000     4.880000     5.365000     6.535000     4.480000   \n",
       "75%       8.680000     6.060000     6.962500     9.250000     5.622500   \n",
       "max      15.450000    10.050000    12.390000    19.270000    10.030000   \n",
       "\n",
       "              Low0         Low1         Low2        Low3         Low5  \\\n",
       "count  2000.000000  2000.000000  2000.000000  2000.00000  2000.000000   \n",
       "mean      3.219980     2.541210     2.729930     3.14623     2.206690   \n",
       "std       1.602882     1.123772     1.504709     2.17403     0.920895   \n",
       "min      -2.170000    -1.430000    -2.740000    -4.46000    -1.010000   \n",
       "25%       2.127500     1.777500     1.710000     1.70750     1.590000   \n",
       "50%       3.210000     2.505000     2.710000     3.16000     2.220000   \n",
       "75%       4.290000     3.310000     3.752500     4.69000     2.820000   \n",
       "max       8.130000     6.010000     7.420000    10.19000     4.970000   \n",
       "\n",
       "          Insomnia  \n",
       "count  2000.000000  \n",
       "mean      0.500000  \n",
       "std       0.500125  \n",
       "min       0.000000  \n",
       "25%       0.000000  \n",
       "50%       0.500000  \n",
       "75%       1.000000  \n",
       "max       1.000000  "
      ]
     },
     "execution_count": 4,
     "metadata": {},
     "output_type": "execute_result"
    }
   ],
   "source": [
    "df.describe()"
   ]
  },
  {
   "cell_type": "code",
   "execution_count": 5,
   "id": "946b9bf2-f217-46c1-9ae5-5de26dfd603c",
   "metadata": {},
   "outputs": [
    {
     "data": {
      "text/plain": [
       "Insomnia\n",
       "1    1000\n",
       "0    1000\n",
       "Name: count, dtype: int64"
      ]
     },
     "execution_count": 5,
     "metadata": {},
     "output_type": "execute_result"
    }
   ],
   "source": [
    "df.Insomnia.value_counts()"
   ]
  },
  {
   "cell_type": "code",
   "execution_count": 6,
   "id": "d8f754b4-d2a0-4746-8109-b14146f35967",
   "metadata": {},
   "outputs": [],
   "source": [
    "x=df.iloc[:,15:]\n",
    "y=df.iloc[:,1]"
   ]
  },
  {
   "cell_type": "code",
   "execution_count": 7,
   "id": "915ebaff-9519-47e7-a13e-6fc2fdcc6479",
   "metadata": {},
   "outputs": [],
   "source": [
    "np.random.seed(42)\n",
    "X, y = make_classification(n_samples=100,\n",
    "    n_features=10,\n",
    "    n_informative=2,  \n",
    "    n_redundant=0,    \n",
    "    n_classes=2,\n",
    "    random_state=0)\n",
    "y_class = np.where(y > np.median(y), 1, 0)"
   ]
  },
  {
   "cell_type": "code",
   "execution_count": 8,
   "id": "cfb7d807-a56e-4dde-b282-4204f35c71d9",
   "metadata": {},
   "outputs": [],
   "source": [
    "# Split the data into training and testing sets\n",
    "x_train, x_test, y_train, y_test = train_test_split(X, y_class, test_size=0.2, random_state=0)"
   ]
  },
  {
   "cell_type": "code",
   "execution_count": 9,
   "id": "90f280f6-c63f-465f-8b28-2403be7f91df",
   "metadata": {},
   "outputs": [
    {
     "name": "stdout",
     "output_type": "stream",
     "text": [
      "shape of x_test is(20, 10)\n",
      "shape of x_train is(80, 10)\n",
      "shape of y_test is(20,)\n",
      "shape of y_train is(80,)\n"
     ]
    }
   ],
   "source": [
    "print(f\"shape of x_test is{x_test.shape}\")\n",
    "print(f\"shape of x_train is{x_train.shape}\")\n",
    "print(f\"shape of y_test is{y_test.shape}\")\n",
    "print(f\"shape of y_train is{y_train.shape}\")"
   ]
  },
  {
   "cell_type": "code",
   "execution_count": 10,
   "id": "7fb871a8-2e91-403b-9f65-20f46ee84b4d",
   "metadata": {},
   "outputs": [],
   "source": [
    "scaler = StandardScaler()\n",
    "x_train_scaled = scaler.fit_transform(x_train)\n",
    "x_test_scaled = scaler.transform(x_test)"
   ]
  },
  {
   "cell_type": "code",
   "execution_count": 11,
   "id": "5cb56ec1-7ee6-49fc-ad46-e8b8102655e9",
   "metadata": {},
   "outputs": [
    {
     "name": "stdout",
     "output_type": "stream",
     "text": [
      "Accuracy after Regularization: 0.8\n"
     ]
    }
   ],
   "source": [
    "alpha = 1.0\n",
    "ridge_reg_regularized = Ridge(alpha=alpha)\n",
    "ridge_reg_regularized.fit(x_train_scaled, y_train)\n",
    "\n",
    "# Accuracy after regularization\n",
    "regularized_predictions = ridge_reg_regularized.predict(x_test_scaled).round().astype(int)\n",
    "regularized_accuracy = accuracy_score(y_test, regularized_predictions)\n",
    "print(\"Accuracy after Regularization:\", regularized_accuracy)"
   ]
  },
  {
   "cell_type": "code",
   "execution_count": 12,
   "id": "4849be3d",
   "metadata": {},
   "outputs": [
    {
     "data": {
      "text/html": [
       "<style>#sk-container-id-1 {color: black;}#sk-container-id-1 pre{padding: 0;}#sk-container-id-1 div.sk-toggleable {background-color: white;}#sk-container-id-1 label.sk-toggleable__label {cursor: pointer;display: block;width: 100%;margin-bottom: 0;padding: 0.3em;box-sizing: border-box;text-align: center;}#sk-container-id-1 label.sk-toggleable__label-arrow:before {content: \"▸\";float: left;margin-right: 0.25em;color: #696969;}#sk-container-id-1 label.sk-toggleable__label-arrow:hover:before {color: black;}#sk-container-id-1 div.sk-estimator:hover label.sk-toggleable__label-arrow:before {color: black;}#sk-container-id-1 div.sk-toggleable__content {max-height: 0;max-width: 0;overflow: hidden;text-align: left;background-color: #f0f8ff;}#sk-container-id-1 div.sk-toggleable__content pre {margin: 0.2em;color: black;border-radius: 0.25em;background-color: #f0f8ff;}#sk-container-id-1 input.sk-toggleable__control:checked~div.sk-toggleable__content {max-height: 200px;max-width: 100%;overflow: auto;}#sk-container-id-1 input.sk-toggleable__control:checked~label.sk-toggleable__label-arrow:before {content: \"▾\";}#sk-container-id-1 div.sk-estimator input.sk-toggleable__control:checked~label.sk-toggleable__label {background-color: #d4ebff;}#sk-container-id-1 div.sk-label input.sk-toggleable__control:checked~label.sk-toggleable__label {background-color: #d4ebff;}#sk-container-id-1 input.sk-hidden--visually {border: 0;clip: rect(1px 1px 1px 1px);clip: rect(1px, 1px, 1px, 1px);height: 1px;margin: -1px;overflow: hidden;padding: 0;position: absolute;width: 1px;}#sk-container-id-1 div.sk-estimator {font-family: monospace;background-color: #f0f8ff;border: 1px dotted black;border-radius: 0.25em;box-sizing: border-box;margin-bottom: 0.5em;}#sk-container-id-1 div.sk-estimator:hover {background-color: #d4ebff;}#sk-container-id-1 div.sk-parallel-item::after {content: \"\";width: 100%;border-bottom: 1px solid gray;flex-grow: 1;}#sk-container-id-1 div.sk-label:hover label.sk-toggleable__label {background-color: #d4ebff;}#sk-container-id-1 div.sk-serial::before {content: \"\";position: absolute;border-left: 1px solid gray;box-sizing: border-box;top: 0;bottom: 0;left: 50%;z-index: 0;}#sk-container-id-1 div.sk-serial {display: flex;flex-direction: column;align-items: center;background-color: white;padding-right: 0.2em;padding-left: 0.2em;position: relative;}#sk-container-id-1 div.sk-item {position: relative;z-index: 1;}#sk-container-id-1 div.sk-parallel {display: flex;align-items: stretch;justify-content: center;background-color: white;position: relative;}#sk-container-id-1 div.sk-item::before, #sk-container-id-1 div.sk-parallel-item::before {content: \"\";position: absolute;border-left: 1px solid gray;box-sizing: border-box;top: 0;bottom: 0;left: 50%;z-index: -1;}#sk-container-id-1 div.sk-parallel-item {display: flex;flex-direction: column;z-index: 1;position: relative;background-color: white;}#sk-container-id-1 div.sk-parallel-item:first-child::after {align-self: flex-end;width: 50%;}#sk-container-id-1 div.sk-parallel-item:last-child::after {align-self: flex-start;width: 50%;}#sk-container-id-1 div.sk-parallel-item:only-child::after {width: 0;}#sk-container-id-1 div.sk-dashed-wrapped {border: 1px dashed gray;margin: 0 0.4em 0.5em 0.4em;box-sizing: border-box;padding-bottom: 0.4em;background-color: white;}#sk-container-id-1 div.sk-label label {font-family: monospace;font-weight: bold;display: inline-block;line-height: 1.2em;}#sk-container-id-1 div.sk-label-container {text-align: center;}#sk-container-id-1 div.sk-container {/* jupyter's `normalize.less` sets `[hidden] { display: none; }` but bootstrap.min.css set `[hidden] { display: none !important; }` so we also need the `!important` here to be able to override the default hidden behavior on the sphinx rendered scikit-learn.org. See: https://github.com/scikit-learn/scikit-learn/issues/21755 */display: inline-block !important;position: relative;}#sk-container-id-1 div.sk-text-repr-fallback {display: none;}</style><div id=\"sk-container-id-1\" class=\"sk-top-container\"><div class=\"sk-text-repr-fallback\"><pre>SVC(kernel=&#x27;linear&#x27;)</pre><b>In a Jupyter environment, please rerun this cell to show the HTML representation or trust the notebook. <br />On GitHub, the HTML representation is unable to render, please try loading this page with nbviewer.org.</b></div><div class=\"sk-container\" hidden><div class=\"sk-item\"><div class=\"sk-estimator sk-toggleable\"><input class=\"sk-toggleable__control sk-hidden--visually\" id=\"sk-estimator-id-1\" type=\"checkbox\" checked><label for=\"sk-estimator-id-1\" class=\"sk-toggleable__label sk-toggleable__label-arrow\">SVC</label><div class=\"sk-toggleable__content\"><pre>SVC(kernel=&#x27;linear&#x27;)</pre></div></div></div></div></div>"
      ],
      "text/plain": [
       "SVC(kernel='linear')"
      ]
     },
     "execution_count": 12,
     "metadata": {},
     "output_type": "execute_result"
    }
   ],
   "source": [
    "#SVM classifier\n",
    "svm_classifier = SVC(kernel='linear', C=1.0, gamma='scale')\n",
    "svm_classifier.fit(x_train_scaled, y_train)\n"
   ]
  },
  {
   "cell_type": "code",
   "execution_count": 13,
   "id": "481fdea8",
   "metadata": {},
   "outputs": [
    {
     "name": "stdout",
     "output_type": "stream",
     "text": [
      "Accuracy: 0.85\n"
     ]
    }
   ],
   "source": [
    "y_pred=svm_classifier.predict(x_test_scaled)\n",
    "accuracy=accuracy_score(y_test,y_pred)\n",
    "print('Accuracy:',accuracy)"
   ]
  },
  {
   "cell_type": "code",
   "execution_count": 14,
   "id": "d1ca33b6",
   "metadata": {},
   "outputs": [],
   "source": [
    "#rfc= RandomForestClassifier(max_depth=3,criterion='gini',min_samples_split=2,min_samples_leaf=1,max_features=None)"
   ]
  },
  {
   "cell_type": "code",
   "execution_count": 15,
   "id": "cc2317d3",
   "metadata": {},
   "outputs": [],
   "source": [
    "#rfc.fit(x_train_scaled,y_train)"
   ]
  },
  {
   "cell_type": "code",
   "execution_count": 16,
   "id": "5559df4f",
   "metadata": {},
   "outputs": [],
   "source": [
    "#y_pred = rfc.predict(x_test_scaled)\n",
    "#accuracy = accuracy_score(y_test, y_pred)\n",
    "#print(\"Accuracy:\", accuracy)"
   ]
  },
  {
   "cell_type": "code",
   "execution_count": 17,
   "id": "db0de7b7",
   "metadata": {},
   "outputs": [],
   "source": [
    "#from sklearn.tree import DecisionTreeClassifier\n",
    "#dt = DecisionTreeClassifier()"
   ]
  },
  {
   "cell_type": "code",
   "execution_count": 18,
   "id": "4f41500c",
   "metadata": {},
   "outputs": [],
   "source": [
    "#training the model\n",
    "#dt.fit(x_train, y_train)"
   ]
  },
  {
   "cell_type": "code",
   "execution_count": 19,
   "id": "a7a12677-8ac1-4fef-a0f5-b8f3f764452a",
   "metadata": {},
   "outputs": [
    {
     "data": {
      "text/html": [
       "<style>#sk-container-id-2 {color: black;}#sk-container-id-2 pre{padding: 0;}#sk-container-id-2 div.sk-toggleable {background-color: white;}#sk-container-id-2 label.sk-toggleable__label {cursor: pointer;display: block;width: 100%;margin-bottom: 0;padding: 0.3em;box-sizing: border-box;text-align: center;}#sk-container-id-2 label.sk-toggleable__label-arrow:before {content: \"▸\";float: left;margin-right: 0.25em;color: #696969;}#sk-container-id-2 label.sk-toggleable__label-arrow:hover:before {color: black;}#sk-container-id-2 div.sk-estimator:hover label.sk-toggleable__label-arrow:before {color: black;}#sk-container-id-2 div.sk-toggleable__content {max-height: 0;max-width: 0;overflow: hidden;text-align: left;background-color: #f0f8ff;}#sk-container-id-2 div.sk-toggleable__content pre {margin: 0.2em;color: black;border-radius: 0.25em;background-color: #f0f8ff;}#sk-container-id-2 input.sk-toggleable__control:checked~div.sk-toggleable__content {max-height: 200px;max-width: 100%;overflow: auto;}#sk-container-id-2 input.sk-toggleable__control:checked~label.sk-toggleable__label-arrow:before {content: \"▾\";}#sk-container-id-2 div.sk-estimator input.sk-toggleable__control:checked~label.sk-toggleable__label {background-color: #d4ebff;}#sk-container-id-2 div.sk-label input.sk-toggleable__control:checked~label.sk-toggleable__label {background-color: #d4ebff;}#sk-container-id-2 input.sk-hidden--visually {border: 0;clip: rect(1px 1px 1px 1px);clip: rect(1px, 1px, 1px, 1px);height: 1px;margin: -1px;overflow: hidden;padding: 0;position: absolute;width: 1px;}#sk-container-id-2 div.sk-estimator {font-family: monospace;background-color: #f0f8ff;border: 1px dotted black;border-radius: 0.25em;box-sizing: border-box;margin-bottom: 0.5em;}#sk-container-id-2 div.sk-estimator:hover {background-color: #d4ebff;}#sk-container-id-2 div.sk-parallel-item::after {content: \"\";width: 100%;border-bottom: 1px solid gray;flex-grow: 1;}#sk-container-id-2 div.sk-label:hover label.sk-toggleable__label {background-color: #d4ebff;}#sk-container-id-2 div.sk-serial::before {content: \"\";position: absolute;border-left: 1px solid gray;box-sizing: border-box;top: 0;bottom: 0;left: 50%;z-index: 0;}#sk-container-id-2 div.sk-serial {display: flex;flex-direction: column;align-items: center;background-color: white;padding-right: 0.2em;padding-left: 0.2em;position: relative;}#sk-container-id-2 div.sk-item {position: relative;z-index: 1;}#sk-container-id-2 div.sk-parallel {display: flex;align-items: stretch;justify-content: center;background-color: white;position: relative;}#sk-container-id-2 div.sk-item::before, #sk-container-id-2 div.sk-parallel-item::before {content: \"\";position: absolute;border-left: 1px solid gray;box-sizing: border-box;top: 0;bottom: 0;left: 50%;z-index: -1;}#sk-container-id-2 div.sk-parallel-item {display: flex;flex-direction: column;z-index: 1;position: relative;background-color: white;}#sk-container-id-2 div.sk-parallel-item:first-child::after {align-self: flex-end;width: 50%;}#sk-container-id-2 div.sk-parallel-item:last-child::after {align-self: flex-start;width: 50%;}#sk-container-id-2 div.sk-parallel-item:only-child::after {width: 0;}#sk-container-id-2 div.sk-dashed-wrapped {border: 1px dashed gray;margin: 0 0.4em 0.5em 0.4em;box-sizing: border-box;padding-bottom: 0.4em;background-color: white;}#sk-container-id-2 div.sk-label label {font-family: monospace;font-weight: bold;display: inline-block;line-height: 1.2em;}#sk-container-id-2 div.sk-label-container {text-align: center;}#sk-container-id-2 div.sk-container {/* jupyter's `normalize.less` sets `[hidden] { display: none; }` but bootstrap.min.css set `[hidden] { display: none !important; }` so we also need the `!important` here to be able to override the default hidden behavior on the sphinx rendered scikit-learn.org. See: https://github.com/scikit-learn/scikit-learn/issues/21755 */display: inline-block !important;position: relative;}#sk-container-id-2 div.sk-text-repr-fallback {display: none;}</style><div id=\"sk-container-id-2\" class=\"sk-top-container\"><div class=\"sk-text-repr-fallback\"><pre>BaggingClassifier(n_estimators=50, random_state=0)</pre><b>In a Jupyter environment, please rerun this cell to show the HTML representation or trust the notebook. <br />On GitHub, the HTML representation is unable to render, please try loading this page with nbviewer.org.</b></div><div class=\"sk-container\" hidden><div class=\"sk-item\"><div class=\"sk-estimator sk-toggleable\"><input class=\"sk-toggleable__control sk-hidden--visually\" id=\"sk-estimator-id-2\" type=\"checkbox\" checked><label for=\"sk-estimator-id-2\" class=\"sk-toggleable__label sk-toggleable__label-arrow\">BaggingClassifier</label><div class=\"sk-toggleable__content\"><pre>BaggingClassifier(n_estimators=50, random_state=0)</pre></div></div></div></div></div>"
      ],
      "text/plain": [
       "BaggingClassifier(n_estimators=50, random_state=0)"
      ]
     },
     "execution_count": 19,
     "metadata": {},
     "output_type": "execute_result"
    }
   ],
   "source": [
    "clf = BaggingClassifier( n_estimators=50, random_state=0)\n",
    "clf.fit(x_train_scaled, y_train)"
   ]
  },
  {
   "cell_type": "code",
   "execution_count": 20,
   "id": "7a23d136-ed52-488e-b349-c24c4988eb9e",
   "metadata": {},
   "outputs": [
    {
     "name": "stdout",
     "output_type": "stream",
     "text": [
      "Accuracy: 0.9\n"
     ]
    }
   ],
   "source": [
    "y_pred = clf.predict(x_test_scaled)\n",
    "accuracy = accuracy_score(y_test, y_pred)\n",
    "print(\"Accuracy:\", accuracy)"
   ]
  },
  {
   "cell_type": "code",
   "execution_count": 21,
   "id": "a045185e-85f5-4139-819b-de0acc8958dc",
   "metadata": {},
   "outputs": [
    {
     "name": "stdout",
     "output_type": "stream",
     "text": [
      "Model Accuracy Score: 0.9\n",
      "Model F1 score: 0.8571428571428571\n",
      "Model Precision: 0.8571428571428571\n",
      "Model Recall: 0.8571428571428571\n",
      "Model Mean Absolute Error: 0.1\n",
      "Model Mean Squared Error: 0.1\n",
      "Model Log Loss: 3.604365338911715\n"
     ]
    }
   ],
   "source": [
    "from sklearn.metrics import accuracy_score, precision_score, recall_score, f1_score\n",
    "print(\"Model Accuracy Score:\", accuracy_score(y_test, y_pred))\n",
    "print(\"Model F1 score:\", f1_score(y_test, y_pred))\n",
    "print(\"Model Precision:\", precision_score(y_test, y_pred))\n",
    "print(\"Model Recall:\", recall_score(y_test, y_pred))\n",
    "print(\"Model Mean Absolute Error:\", mean_absolute_error(y_test, y_pred))\n",
    "print(\"Model Mean Squared Error:\", mean_squared_error(y_test, y_pred))\n",
    "print(\"Model Log Loss:\", log_loss(y_test, y_pred))"
   ]
  },
  {
   "cell_type": "code",
   "execution_count": 22,
   "id": "52160a4d-98aa-4ba2-a659-610ebdf63777",
   "metadata": {},
   "outputs": [
    {
     "name": "stderr",
     "output_type": "stream",
     "text": [
      "Matplotlib is building the font cache; this may take a moment.\n"
     ]
    },
    {
     "data": {
      "image/png": "[encoded data removed]",
      "text/plain": [
       "<Figure size 640x480 with 2 Axes>"
      ]
     },
     "metadata": {},
     "output_type": "display_data"
    }
   ],
   "source": [
    "import matplotlib.pyplot as plt\n",
    "import seaborn as sns\n",
    "cm_ad = confusion_matrix(y_test, y_pred)\n",
    "sns.heatmap(cm_ad, annot=True, fmt='g', cmap='Blues')\n",
    "plt.title('Confusion Matrix - Bagging Classifier with SVM')\n",
    "plt.xlabel('Predicted labels')\n",
    "plt.ylabel('True labels')\n",
    "plt.show()"
   ]
  },
  {
   "cell_type": "code",
   "execution_count": 23,
   "id": "43d585f6-f6fd-4bcd-a319-68d1027c1225",
   "metadata": {},
   "outputs": [
    {
     "data": {
      "image/png": "[encoded data removed]",
      "text/plain": [
       "<Figure size 1000x600 with 1 Axes>"
      ]
     },
     "metadata": {},
     "output_type": "display_data"
    }
   ],
   "source": [
    "import matplotlib.pyplot as plt\n",
    "import numpy as np\n",
    "\n",
    "labels = ['Bagging Classifier with SVM']\n",
    "precision = [precision_score(y_test, y_pred)]\n",
    "recall = [recall_score(y_test, y_pred)]\n",
    "f1 = [f1_score(y_test, y_pred)]\n",
    "\n",
    "bar_width = 0.25\n",
    "index = np.arange(len(labels))\n",
    "\n",
    "fig, ax = plt.subplots(figsize=(10, 6))\n",
    "\n",
    "precision_bar = ax.bar(index, precision, bar_width, label='Precision')\n",
    "recall_bar = ax.bar(index + bar_width, recall, bar_width, label='Recall')\n",
    "f1_bar = ax.bar(index + 2 * bar_width, f1, bar_width, label='F1-score')\n",
    "\n",
    "ax.set_xlabel('Models')\n",
    "ax.set_ylabel('Scores')\n",
    "ax.set_title('Precision, Recall, and F1-score Comparison')\n",
    "ax.set_xticks(index + bar_width)\n",
    "ax.set_xticklabels(labels)\n",
    "ax.legend()\n",
    "\n",
    "plt.show()\n"
   ]
  },
  {
   "cell_type": "code",
   "execution_count": 24,
   "id": "cb1986d2-e4c5-44fe-8b0b-f741dba12bdd",
   "metadata": {},
   "outputs": [
    {
     "ename": "NameError",
     "evalue": "name 'rfc' is not defined",
     "output_type": "error",
     "traceback": [
      "\u001b[1;31m---------------------------------------------------------------------------\u001b[0m",
      "\u001b[1;31mNameError\u001b[0m                                 Traceback (most recent call last)",
      "Cell \u001b[1;32mIn[24], line 1\u001b[0m\n\u001b[1;32m----> 1\u001b[0m joblib\u001b[38;5;241m.\u001b[39mdump(rfc, \u001b[38;5;124m'\u001b[39m\u001b[38;5;124mrandom_forest_model.EEG_Data\u001b[39m\u001b[38;5;124m'\u001b[39m)\n",
      "\u001b[1;31mNameError\u001b[0m: name 'rfc' is not defined"
     ]
    }
   ],
   "source": [
    "joblib.dump(rfc, 'random_forest_model.EEG_Data')"
   ]
  },
  {
   "cell_type": "code",
   "execution_count": null,
   "id": "990fe25c-3874-4c37-8570-f5c439ed0571",
   "metadata": {},
   "outputs": [],
   "source": [
    "random_forest_model = joblib.load('random_forest_model.EEG_Data')"
   ]
  },
  {
   "cell_type": "code",
   "execution_count": null,
   "id": "94a500a4-2c34-4aa1-a7c3-dd383a376de8",
   "metadata": {},
   "outputs": [],
   "source": [
    "data1=pd.read_csv(r\"D:\\Users\\siddh\\Desktop\\study materials\\ML proj\\eeg_data1.csv\")"
   ]
  },
  {
   "cell_type": "code",
   "execution_count": null,
   "id": "3167d942-d08c-4898-bc9a-ea1c9e4ca223",
   "metadata": {},
   "outputs": [],
   "source": [
    "y_pred_new = random_forest_model.predict(data1)"
   ]
  },
  {
   "cell_type": "code",
   "execution_count": null,
   "id": "58b2caf8-bdd3-485f-8b1d-6fcecad5a955",
   "metadata": {},
   "outputs": [],
   "source": [
    "print(y_pred_new)"
   ]
  },
  {
   "cell_type": "code",
   "execution_count": null,
   "id": "7c689ef7-88a5-449e-bfe7-d642d66d3b0d",
   "metadata": {},
   "outputs": [],
   "source": [
    "data2=pd.read_csv(r\"D:\\Users\\siddh\\Desktop\\study materials\\ML proj\\eeg_data2.csv\")"
   ]
  },
  {
   "cell_type": "code",
   "execution_count": null,
   "id": "36bfe795-96e5-4f77-810e-a260ee836569",
   "metadata": {},
   "outputs": [],
   "source": [
    "y_pred_= random_forest_model.predict(data2)"
   ]
  },
  {
   "cell_type": "code",
   "execution_count": null,
   "id": "a2082a23-5104-43fb-b561-1c39223ca7e8",
   "metadata": {},
   "outputs": [],
   "source": [
    "print(y_pred_)"
   ]
  },
  {
   "cell_type": "code",
   "execution_count": null,
   "id": "9e6b975d-9de7-451b-bcc9-2d5128c82c35",
   "metadata": {},
   "outputs": [],
   "source": [
    "data3=pd.read_csv(r\"D:\\Users\\siddh\\Desktop\\study materials\\ML proj\\eeg_data3.csv\")"
   ]
  },
  {
   "cell_type": "code",
   "execution_count": null,
   "id": "8f83b639-596c-4d29-be9d-7426a195a1f7",
   "metadata": {},
   "outputs": [],
   "source": [
    "y_pred = random_forest_model.predict(data3)"
   ]
  },
  {
   "cell_type": "code",
   "execution_count": null,
   "id": "1b935078-24ca-4d73-8b3f-28b25bdd7fe7",
   "metadata": {},
   "outputs": [],
   "source": [
    "print(y_pred)"
   ]
  },
  {
   "cell_type": "code",
   "execution_count": null,
   "id": "5a0e1e5e-0cf3-4a02-8d4c-1a13028eacea",
   "metadata": {},
   "outputs": [],
   "source": [
    "ones_count = np.count_nonzero(y_pred_new)\n",
    "zeros_count = y_pred_new.size - ones_count"
   ]
  },
  {
   "cell_type": "code",
   "execution_count": null,
   "id": "9df2c22a-4c21-427e-a695-252f91f2b693",
   "metadata": {},
   "outputs": [],
   "source": [
    "if(ones_count>zeros_count):\n",
    "    print(1)\n",
    "else:\n",
    "    print(0)"
   ]
  },
  {
   "cell_type": "code",
   "execution_count": null,
   "id": "da0a597b-206d-4e8f-aede-4fb0e3c6bcd3",
   "metadata": {},
   "outputs": [],
   "source": [
    "print(y_pred_new)"
   ]
  },
  {
   "cell_type": "code",
   "execution_count": null,
   "id": "e4742fa8-3c9c-46b4-8b67-8e0ef2ac67f4",
   "metadata": {},
   "outputs": [],
   "source": []
  },
  {
   "cell_type": "code",
   "execution_count": null,
   "id": "eddb7969-7b50-4afa-94a1-1a492827d5f1",
   "metadata": {},
   "outputs": [],
   "source": []
  }
 ],
 "metadata": {
  "kernelspec": {
   "display_name": "Python 3 (ipykernel)",
   "language": "python",
   "name": "python3"
  },
  "language_info": {
   "codemirror_mode": {
    "name": "ipython",
    "version": 3
   },
   "file_extension": ".py",
   "mimetype": "text/x-python",
   "name": "python",
   "nbconvert_exporter": "python",
   "pygments_lexer": "ipython3",
   "version": "3.11.5"
  }
 },
 "nbformat": 4,
 "nbformat_minor": 5
}
